{
  "nbformat": 4,
  "nbformat_minor": 0,
  "metadata": {
    "colab": {
      "name": "howtowork_ohe.ipynb",
      "provenance": [],
      "collapsed_sections": []
    },
    "kernelspec": {
      "name": "python3",
      "display_name": "Python 3"
    },
    "accelerator": "GPU"
  },
  "cells": [
    {
      "cell_type": "code",
      "metadata": {
        "colab": {
          "base_uri": "https://localhost:8080/"
        },
        "id": "L12YN5lmn_n5",
        "outputId": "ed2bf80b-d45f-445d-e63b-10b0daaf4898"
      },
      "source": [
        "!apt-get install -y -qq software-properties-common python-software-properties module-init-tools\n",
        "!add-apt-repository -y ppa:alessandro-strada/ppa 2>&1 > /dev/null\n",
        "!apt-get update -qq 2>&1 > /dev/null\n",
        "!apt-get -y install -qq google-drive-ocamlfuse fuse\n",
        "from google.colab import auth\n",
        "auth.authenticate_user()\n",
        "from oauth2client.client import GoogleCredentials\n",
        "creds = GoogleCredentials.get_application_default()\n",
        "import getpass\n",
        "!google-drive-ocamlfuse -headless -id={creds.client_id} -secret={creds.client_secret} < /dev/null 2>&1 | grep URL\n",
        "vcode = getpass.getpass()\n",
        "!echo {vcode} | google-drive-ocamlfuse -headless -id={creds.client_id} -secret={creds.client_secret}"
      ],
      "execution_count": 6,
      "outputs": [
        {
          "output_type": "stream",
          "text": [
            "E: Package 'python-software-properties' has no installation candidate\n",
            "Please, open the following URL in a web browser: https://accounts.google.com/o/oauth2/auth?client_id=32555940559.apps.googleusercontent.com&redirect_uri=urn%3Aietf%3Awg%3Aoauth%3A2.0%3Aoob&scope=https%3A%2F%2Fwww.googleapis.com%2Fauth%2Fdrive&response_type=code&access_type=offline&approval_prompt=force\n",
            "··········\n",
            "Please, open the following URL in a web browser: https://accounts.google.com/o/oauth2/auth?client_id=32555940559.apps.googleusercontent.com&redirect_uri=urn%3Aietf%3Awg%3Aoauth%3A2.0%3Aoob&scope=https%3A%2F%2Fwww.googleapis.com%2Fauth%2Fdrive&response_type=code&access_type=offline&approval_prompt=force\n",
            "Please enter the verification code: Access token retrieved correctly.\n"
          ],
          "name": "stdout"
        }
      ]
    },
    {
      "cell_type": "code",
      "metadata": {
        "colab": {
          "base_uri": "https://localhost:8080/"
        },
        "id": "I0sJIkHOoZ59",
        "outputId": "2409dd52-b20b-4ae9-9737-ea2899d52632"
      },
      "source": [
        "!mkdir drive\n",
        "!google-drive-ocamlfuse drive"
      ],
      "execution_count": 7,
      "outputs": [
        {
          "output_type": "stream",
          "text": [
            "mkdir: cannot create directory ‘drive’: File exists\n"
          ],
          "name": "stdout"
        }
      ]
    },
    {
      "cell_type": "code",
      "metadata": {
        "colab": {
          "base_uri": "https://localhost:8080/"
        },
        "id": "GuJ8gR3uob7n",
        "outputId": "b1dcf4b0-f5f1-4ae2-b44d-bdfb8b173e11"
      },
      "source": [
        "import os \n",
        "os.chdir(\"/content/drive/Colab_Notebooks/23december\")\n",
        "!pwd"
      ],
      "execution_count": 8,
      "outputs": [
        {
          "output_type": "stream",
          "text": [
            "/content/drive/Colab_Notebooks/23december\n"
          ],
          "name": "stdout"
        }
      ]
    },
    {
      "cell_type": "code",
      "metadata": {
        "id": "4nKX22-EokZ1"
      },
      "source": [
        "from keras.datasets import mnist\n",
        "from keras.utils.np_utils import to_categorical\n",
        "\n",
        "import numpy as np\n",
        "import pandas as pd\n",
        "\n",
        "import csv"
      ],
      "execution_count": 9,
      "outputs": []
    },
    {
      "cell_type": "code",
      "metadata": {
        "id": "gSROVu3c0Vkm"
      },
      "source": [
        "def one_hot_encoding (y_train):\n",
        "  y_train = y_train\n",
        "  row = y_train.shape[0]\n",
        "  i = 0\n",
        "  ohe = []\n",
        "\n",
        "  row = y_train.shape[0]\n",
        "  i = 0\n",
        "  ohe = []\n",
        "\n",
        "  for i in range(row):\n",
        "    temp = [y_train[i]]\n",
        "    for j in range(10):\n",
        "      if (j == y_train[i]):\n",
        "        temp.append(1)\n",
        "      else:\n",
        "        temp.append(0)\n",
        "    ohe = ohe + [temp]  \n",
        "\n",
        "  return ohe \n",
        "    "
      ],
      "execution_count": 24,
      "outputs": []
    },
    {
      "cell_type": "code",
      "metadata": {
        "id": "JdZXu0rfootp"
      },
      "source": [
        "def main():\n",
        "  (x_train,y_train), (x_test,y_test) = mnist.load_data()\n",
        "  print(\"x_train\",x_train.shape)\n",
        "  print(\"y_train\",y_train.shape)\n",
        "  print(\"x_test\",x_test.shape)\n",
        "  print(\"y_test\",y_test.shape)\n",
        "\n",
        "  print(\"y_train:[\",y_train[0],y_train[1],y_train[2],y_train[3],y_train[4],y_train[5],y_train[6],\"...]\")\n",
        "\n",
        "  y_train_ohe = to_categorical(y_train)\n",
        "  print(\"y_train_ohe:\",y_train_ohe)\n",
        "  print(\"y_train_ohe dim:\",y_train_ohe.shape)\n",
        "\n",
        "  print(\"y_train[0]:\",y_train[0],\" its ohe:\",y_train_ohe[0])\n",
        "\n",
        "  column=['y_value','num_0','num_1','num_2','num_3','num_4','num_5','num_6','num_7','num_8','num_9']\n",
        "\n",
        "  filename = 'y_train_ohe.csv'\n",
        "  with open(filename, 'w', newline='') as outcsv:\n",
        "    writer = csv.writer(outcsv)\n",
        "    writer.writerow(column)\n",
        "  \n",
        "  #transform y_train array to one_hot_encoding array\n",
        "  #with this, we will use it in CNN for categorization.\n",
        "  ohe = one_hot_encoding(y_train) \n",
        "\n",
        "  #append new rows into existing csv file \n",
        "  append_new_row(filename,ohe)\n",
        "      "
      ],
      "execution_count": 26,
      "outputs": []
    },
    {
      "cell_type": "code",
      "metadata": {
        "id": "58vgrm27Xu8W"
      },
      "source": [
        "from csv import writer\n",
        "def append_new_row (filename, ndarr):\n",
        "  file_name = filename\n",
        "  ndarr = ndarr\n",
        "  row = len(ndarr)\n",
        "\n",
        "  with open(file_name, 'a+', newline='') as write_obj:\n",
        "    # Create a writer object from csv module\n",
        "    csv_writer = writer(write_obj)\n",
        "    # Add contents of list as last row in the csv file\n",
        "    for i in range(row):\n",
        "      csv_writer.writerow(ndarr[i])\n",
        "    "
      ],
      "execution_count": 27,
      "outputs": []
    },
    {
      "cell_type": "code",
      "metadata": {
        "colab": {
          "base_uri": "https://localhost:8080/"
        },
        "id": "1L6ULb00olHd",
        "outputId": "5c7ee922-2b75-437a-af39-0cd780b1eb93"
      },
      "source": [
        "if __name__ == '__main__':\n",
        "  print('code executed')\n",
        "  main()\n",
        "\n",
        "#run different main source\n",
        "else:\n",
        "  print(\"code executed by other main running progress\")"
      ],
      "execution_count": 30,
      "outputs": [
        {
          "output_type": "stream",
          "text": [
            "code executed\n",
            "x_train (60000, 28, 28)\n",
            "y_train (60000,)\n",
            "x_test (10000, 28, 28)\n",
            "y_test (10000,)\n",
            "y_train:[ 5 0 4 1 9 2 1 ...]\n",
            "y_train_ohe: [[0. 0. 0. ... 0. 0. 0.]\n",
            " [1. 0. 0. ... 0. 0. 0.]\n",
            " [0. 0. 0. ... 0. 0. 0.]\n",
            " ...\n",
            " [0. 0. 0. ... 0. 0. 0.]\n",
            " [0. 0. 0. ... 0. 0. 0.]\n",
            " [0. 0. 0. ... 0. 1. 0.]]\n",
            "y_train_ohe dim: (60000, 10)\n",
            "y_train[0]: 5  its ohe: [0. 0. 0. 0. 0. 1. 0. 0. 0. 0.]\n"
          ],
          "name": "stdout"
        }
      ]
    },
    {
      "cell_type": "code",
      "metadata": {
        "id": "nDUgYig0EsWz"
      },
      "source": [
        "y_ohe = pd.read_csv('./y_train_ohe.csv')\n",
        "y_ohe.head(25)"
      ],
      "execution_count": null,
      "outputs": []
    }
  ]
}