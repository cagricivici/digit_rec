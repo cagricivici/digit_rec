{
  "nbformat": 4,
  "nbformat_minor": 0,
  "metadata": {
    "colab": {
      "name": "mnist_dl_CNN_1.ipynb",
      "provenance": [],
      "collapsed_sections": []
    },
    "kernelspec": {
      "name": "python3",
      "display_name": "Python 3"
    },
    "accelerator": "GPU"
  },
  "cells": [
    {
      "cell_type": "code",
      "metadata": {
        "colab": {
          "base_uri": "https://localhost:8080/"
        },
        "id": "RPuuog_FDDdE",
        "outputId": "305feb4b-60b3-44d3-f427-30d5533a88fd"
      },
      "source": [
        "!apt-get install -y -qq software-properties-common python-software-properties module-init-tools\n",
        "!add-apt-repository -y ppa:alessandro-strada/ppa 2>&1 > /dev/null\n",
        "!apt-get update -qq 2>&1 > /dev/null\n",
        "!apt-get -y install -qq google-drive-ocamlfuse fuse\n",
        "from google.colab import auth\n",
        "auth.authenticate_user()\n",
        "from oauth2client.client import GoogleCredentials\n",
        "creds = GoogleCredentials.get_application_default()\n",
        "import getpass\n",
        "!google-drive-ocamlfuse -headless -id={creds.client_id} -secret={creds.client_secret} < /dev/null 2>&1 | grep URL\n",
        "vcode = getpass.getpass()\n",
        "!echo {vcode} | google-drive-ocamlfuse -headless -id={creds.client_id} -secret={creds.client_secret}"
      ],
      "execution_count": null,
      "outputs": [
        {
          "output_type": "stream",
          "text": [
            "E: Package 'python-software-properties' has no installation candidate\n",
            "Selecting previously unselected package google-drive-ocamlfuse.\n",
            "(Reading database ... 145480 files and directories currently installed.)\n",
            "Preparing to unpack .../google-drive-ocamlfuse_0.7.23-0ubuntu1~ubuntu18.04.1_amd64.deb ...\n",
            "Unpacking google-drive-ocamlfuse (0.7.23-0ubuntu1~ubuntu18.04.1) ...\n",
            "Setting up google-drive-ocamlfuse (0.7.23-0ubuntu1~ubuntu18.04.1) ...\n",
            "Processing triggers for man-db (2.8.3-2ubuntu0.1) ...\n",
            "Please, open the following URL in a web browser: https://accounts.google.com/o/oauth2/auth?client_id=32555940559.apps.googleusercontent.com&redirect_uri=urn%3Aietf%3Awg%3Aoauth%3A2.0%3Aoob&scope=https%3A%2F%2Fwww.googleapis.com%2Fauth%2Fdrive&response_type=code&access_type=offline&approval_prompt=force\n",
            "··········\n",
            "Please, open the following URL in a web browser: https://accounts.google.com/o/oauth2/auth?client_id=32555940559.apps.googleusercontent.com&redirect_uri=urn%3Aietf%3Awg%3Aoauth%3A2.0%3Aoob&scope=https%3A%2F%2Fwww.googleapis.com%2Fauth%2Fdrive&response_type=code&access_type=offline&approval_prompt=force\n",
            "Please enter the verification code: Access token retrieved correctly.\n"
          ],
          "name": "stdout"
        }
      ]
    },
    {
      "cell_type": "code",
      "metadata": {
        "id": "rW0ts6vDC3fp"
      },
      "source": [
        "!mkdir drive\n",
        "!google-drive-ocamlfuse drive"
      ],
      "execution_count": null,
      "outputs": []
    },
    {
      "cell_type": "code",
      "metadata": {
        "id": "zVRS7y33C6aF",
        "colab": {
          "base_uri": "https://localhost:8080/"
        },
        "outputId": "7da26825-db05-42f6-996e-d4c52e6f85d3"
      },
      "source": [
        "import os \n",
        "os.chdir(\"/content/drive/Colab_Notebooks/23december\")\n",
        "!pwd"
      ],
      "execution_count": null,
      "outputs": [
        {
          "output_type": "stream",
          "text": [
            "/content/drive/Colab_Notebooks/23december\n"
          ],
          "name": "stdout"
        }
      ]
    },
    {
      "cell_type": "code",
      "metadata": {
        "id": "2pB2fInEt9Fg"
      },
      "source": [
        "from keras.models import Sequential\n",
        "from keras.layers.core import Dense\n",
        "from keras.optimizers import SGD\n",
        "from keras.layers.core import Activation\n",
        "from keras.layers.core import Dropout\n",
        "\n",
        "from tensorflow.keras.utils import plot_model\n",
        "from IPython.display import Image\n",
        "\n",
        "from keras.datasets import mnist\n",
        "\n",
        "from keras.utils.np_utils import to_categorical\n",
        "\n",
        "import numpy as np\n",
        "\n",
        "import matplotlib.pyplot as plt\n"
      ],
      "execution_count": null,
      "outputs": []
    },
    {
      "cell_type": "code",
      "metadata": {
        "id": "DjWAdPK6QLHU",
        "colab": {
          "base_uri": "https://localhost:8080/"
        },
        "outputId": "6835c48b-9d01-4ab1-e04b-ef3ab62e237c"
      },
      "source": [
        "(x_train, y_train), (x_test, y_test) = mnist.load_data()\n",
        "\n",
        "print(\"x train dataset:\", x_train.shape)\n",
        "print(\"y train dataset:\", y_train.shape)\n",
        "print(\"y:\",y_train[0],y_train[1],y_train[2],y_train[3],y_train[4],y_train[5])\n",
        "print(\"x test dataset:\", x_test.shape)\n",
        "print(\"y test dataset:\", y_test[1],y_test[2],y_test[3], y_test[4], y_test[5])\n",
        "\n",
        "y_train_ohe = to_categorical(y_train)\n",
        "print(\"ohe for y_train\",y_train_ohe.shape)\n",
        "\n"
      ],
      "execution_count": null,
      "outputs": [
        {
          "output_type": "stream",
          "text": [
            "Downloading data from https://storage.googleapis.com/tensorflow/tf-keras-datasets/mnist.npz\n",
            "11493376/11490434 [==============================] - 0s 0us/step\n",
            "x train dataset: (60000, 28, 28)\n",
            "y train dataset: (60000,)\n",
            "y: 5 0 4 1 9 2\n",
            "x test dataset: (10000, 28, 28)\n",
            "y test dataset: 2 1 0 4 1\n",
            "ohe for y_train (60000, 10)\n"
          ],
          "name": "stdout"
        }
      ]
    },
    {
      "cell_type": "code",
      "metadata": {
        "id": "nQNQ2e32ZZ31"
      },
      "source": [
        "def creating_model(X_train,X_test,y_train,y_test,epoch,batch):\n",
        "\n",
        "  #input handling \n",
        "  x_train = X_train\n",
        "  y_train = y_train\n",
        "  x_test = X_test\n",
        "  y_test = y_test\n",
        "  #transform one hot encoding (0,1,2,3,4,5,6,7,8,9)\n",
        "  y_train_ohe = to_categorical(y_train)\n",
        "\n",
        "  #creating model\n",
        "  model = Sequential()\n",
        "\n",
        "  model.add(Dense(input_dim = x_train.shape[1],\n",
        "                units = 50,\n",
        "                kernel_initializer='uniform',\n",
        "                activation = 'tanh'))\n",
        "  \n",
        "  model.add(Dense(50, kernel_initializer='uniform'))\n",
        "  model.add(Activation('tanh'))\n",
        "  model.add(Dropout(0.5))\n",
        "  model.add(Dense(50, kernel_initializer='uniform'))\n",
        "  model.add(Activation('relu'))\n",
        "\n",
        "  model.add(Dense(10, kernel_initializer='uniform'))\n",
        "  model.add(Activation('softmax'))\n",
        "  \n",
        "  #optimizer: stochastic gradient descent!\n",
        "  sgd = SGD(lr=0.001, decay=1e-6, momentum=0.9, nesterov=True)\n",
        "  \n",
        "  #model compiler \n",
        "  #loss function: categorical_crossentropy\n",
        "  #extra metric 'accuracy' except from val_acc, loss, val_loss\n",
        "  model.compile(loss = 'categorical_crossentropy',\n",
        "              optimizer = sgd,\n",
        "              metrics=[\"accuracy\"])\n",
        "\n",
        "  epochs= epoch\n",
        "  batch_size = batch\n",
        "  modelhistory = []\n",
        "  #let's train\n",
        "  modelhistory = model.fit(x_train,\n",
        "          y_train_ohe,\n",
        "          batch_size,\n",
        "          epochs,\n",
        "          validation_split = 0.1,   #validation ratio 1/10\n",
        "          verbose = 1)\n",
        "\n",
        "  #prediction for this model\n",
        "  y_test_predictions = model.predict_classes(x_test, verbose = 1)\n",
        "\n",
        "  print(\"y_test_predictions\", y_test_predictions, \"len\", len(y_test_predictions))\n",
        "  correct = np.sum(y_test_predictions ==  y_test)\n",
        "  print ('Test Accuracy: %.2f%%' % (correct/float(y_test.shape[0])*100.0) )\n",
        "\n",
        "  #model structure\n",
        "  plot_model(model, to_file='./model_plot.png', show_shapes=True, show_layer_names=True)\n",
        "\n",
        "  return model, modelhistory"
      ],
      "execution_count": null,
      "outputs": []
    },
    {
      "cell_type": "code",
      "metadata": {
        "id": "0pidHAX6bYL7"
      },
      "source": [
        "def plot(acc,val_acc,loss,val_loss, epochs):\n",
        "  acc_history = acc \n",
        "  val_acc = val_acc\n",
        "  loss = loss\n",
        "  val_loss = val_loss\n",
        "\n",
        "  epochs = epochs\n",
        "  x_range = []\n",
        "\n",
        "  for i in range (epochs):\n",
        "    x_range = x_range + [i+1]\n",
        "\n",
        "  fig, (ax1, ax2) = plt.subplots(1, 2)\n",
        "  fig.suptitle('MNIST MODEL RESULT\\n')\n",
        "  ax1.plot(x_range,acc_history)\n",
        "  ax1.plot(x_range,val_acc)\n",
        "  ax1.set_xlabel('Epochs')\n",
        "  ax1.set_ylabel('Accuracy')\n",
        "  ax1.set_title('epoch vs accuracy ')\n",
        "  ax1.legend([\"accuracy\",\"validation_accuracy\"])\n",
        "\n",
        "\n",
        "  ax2.plot(x_range,loss)\n",
        "  ax2.plot(x_range,val_loss)\n",
        "  ax2.set_xlabel('Epochs')\n",
        "  ax2.set_ylabel('Loss')\n",
        "  ax2.set_title('epoch vs loss ')\n",
        "  ax2.legend([\"loss\",\"validation_loss\"])\n",
        "  \n",
        "  fig.tight_layout(rect=[0, 0.03, 1, 0.95])\n",
        "  plt.savefig(\"./result.PNG\")\n",
        "  plt.show()\n",
        "\n",
        "\n"
      ],
      "execution_count": null,
      "outputs": []
    },
    {
      "cell_type": "code",
      "metadata": {
        "id": "e8ItH1A26hFj"
      },
      "source": [
        "def dataset(x_data):\n",
        "  l = x_data\n",
        "  for x in range (len(l)):\n",
        "    plt.subplot(4,5,x+1),plt.imshow(x_data[x], cmap=plt.get_cmap('gray')), plt.xticks([]), plt.yticks([])\n",
        "  plt.tight_layout()\n",
        "  plt.savefig(\"./training_set.PNG\")\n",
        "  plt.show()\n",
        "  "
      ],
      "execution_count": null,
      "outputs": []
    },
    {
      "cell_type": "code",
      "metadata": {
        "id": "8nOWknQpx_Cx"
      },
      "source": [
        "def main(): \n",
        "\n",
        "  print(\"maincode\")\n",
        "  (x_train, y_train), (x_test, y_test) = mnist.load_data()\n",
        "\n",
        "  dataset(x_train[0:20])\n",
        "\n",
        "  X_train = x_train.reshape(60000, 784)\n",
        "  X_test = x_test.reshape(10000, 784)\n",
        "\n",
        "  epochs = 150\n",
        "  batch_size = 400\n",
        "  \n",
        "  model, history = creating_model(X_train,X_test,y_train,y_test,epochs,batch_size)\n",
        "\n",
        "  acc=history.history['accuracy']\n",
        "  val_acc= history.history['val_accuracy'] \n",
        "  loss= history.history['loss'] \n",
        "  val_loss= history.history['val_loss'] \n",
        "\n",
        "  plot(acc,val_acc,loss,val_loss, epochs)\n",
        "\n",
        "\n",
        "\n",
        "if __name__ == '__main__':\n",
        "  print('code executed')\n",
        "  main()\n",
        "\n",
        "#run different main source\n",
        "else:\n",
        "  print(\"code executed by other main running progress\")\n",
        "\n"
      ],
      "execution_count": null,
      "outputs": []
    },
    {
      "cell_type": "markdown",
      "metadata": {
        "id": "zHRtNznncrdH"
      },
      "source": [
        "*the last section when code running:*\n",
        "\n",
        "Epoch 1/150\n",
        "135/135 [==============================] - 1s 4ms/step - loss: 2.3024 - accuracy: 0.1109 - val_loss: 2.3005 - val_accuracy: 0.1228\n",
        "\n",
        "Epoch 2/150\n",
        "135/135 [==============================] - 0s 3ms/step - loss: 2.3000 - accuracy: 0.1418 - val_loss: 2.2977 - val_accuracy: 0.1082\n",
        "\n",
        "Epoch 3/150\n",
        "135/135 [==============================] - 0s 3ms/step - loss: 2.2973 - accuracy: 0.1272 - val_loss: 2.2941 - val_accuracy: 0.1087\n",
        "\n",
        "Epoch 4/150\n",
        "135/135 [==============================] - 0s 3ms/step - loss: 2.2937 - accuracy: 0.1312 - val_loss: 2.2887 - val_accuracy: 0.1405\n",
        "\n",
        "... ... ...\n",
        "\n",
        "Epoch 143/150\n",
        "135/135 [==============================] - 0s 3ms/step - loss: 0.1827 - accuracy: 0.9469 - val_loss: 0.1621 - val_accuracy: 0.9550\n",
        "\n",
        "Epoch 144/150\n",
        "135/135 [==============================] - 0s 3ms/step - loss: 0.1906 - accuracy: 0.9470 - val_loss: 0.1550 - val_accuracy: 0.9562\n",
        "\n",
        "Epoch 145/150\n",
        "135/135 [==============================] - 0s 3ms/step - loss: 0.1897 - accuracy: 0.9458 - val_loss: 0.1599 - val_accuracy: 0.9545\n",
        "\n",
        "Epoch 146/150\n",
        "135/135 [==============================] - 0s 3ms/step - loss: 0.1924 - accuracy: 0.9452 - val_loss: 0.1649 - val_accuracy: 0.9538\n",
        "\n",
        "Epoch 147/150\n",
        "135/135 [==============================] - 0s 3ms/step - loss: 0.1827 - accuracy: 0.9471 - val_loss: 0.1516 - val_accuracy: 0.9560\n",
        "\n",
        "Epoch 148/150\n",
        "135/135 [==============================] - 0s 3ms/step - loss: 0.1814 - accuracy: 0.9484 - val_loss: 0.1605 - val_accuracy: 0.9577\n",
        "\n",
        "Epoch 149/150\n",
        "135/135 [==============================] - 0s 3ms/step - loss: 0.1877 - accuracy: 0.9467 - val_loss: 0.1510 - val_accuracy: 0.9578\n",
        "\n",
        "Epoch 150/150\n",
        "135/135 [==============================] - 0s 3ms/step - loss: 0.1872 - accuracy: 0.9478 - val_loss: 0.1560 - val_accuracy: 0.9535\n",
        "\n",
        "y_test_predictions [7 2 1 ... 4 5 6]  len(y_test_prediction):10000\n",
        "\n",
        "Test Accuracy: 94.90%\n",
        "\n"
      ]
    }
  ]
}