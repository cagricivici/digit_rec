{
  "nbformat": 4,
  "nbformat_minor": 0,
  "metadata": {
    "colab": {
      "name": "mnist_dl.ipynb",
      "provenance": [],
      "authorship_tag": "ABX9TyOzBYyUeEEZvXkl2/55qoS1",
      "include_colab_link": true
    },
    "kernelspec": {
      "name": "python3",
      "display_name": "Python 3"
    }
  },
  "cells": [
    {
      "cell_type": "markdown",
      "metadata": {
        "id": "view-in-github",
        "colab_type": "text"
      },
      "source": [
        "<a href=\"https://colab.research.google.com/github/cagricivici/digit_rec/blob/main/mnist_dl.ipynb\" target=\"_parent\"><img src=\"https://colab.research.google.com/assets/colab-badge.svg\" alt=\"Open In Colab\"/></a>"
      ]
    },
    {
      "cell_type": "code",
      "metadata": {
        "colab": {
          "base_uri": "https://localhost:8080/"
        },
        "id": "xjU3RJfu3_j5",
        "outputId": "78c50f30-f50a-4be1-e7c6-c7a091f72514"
      },
      "source": [
        "!apt-get install -y -qq software-properties-common python-software-properties module-init-tools\n",
        "!add-apt-repository -y ppa:alessandro-strada/ppa 2>&1 > /dev/null\n",
        "!apt-get update -qq 2>&1 > /dev/null\n",
        "!apt-get -y install -qq google-drive-ocamlfuse fuse\n",
        "from google.colab import auth\n",
        "auth.authenticate_user()\n",
        "from oauth2client.client import GoogleCredentials\n",
        "creds = GoogleCredentials.get_application_default()\n",
        "import getpass\n",
        "!google-drive-ocamlfuse -headless -id={creds.client_id} -secret={creds.client_secret} < /dev/null 2>&1 | grep URL\n",
        "vcode = getpass.getpass()\n",
        "!echo {vcode} | google-drive-ocamlfuse -headless -id={creds.client_id} -secret={creds.client_secret}"
      ],
      "execution_count": 2,
      "outputs": [
        {
          "output_type": "stream",
          "text": [
            "E: Package 'python-software-properties' has no installation candidate\n",
            "Selecting previously unselected package google-drive-ocamlfuse.\n",
            "(Reading database ... 145480 files and directories currently installed.)\n",
            "Preparing to unpack .../google-drive-ocamlfuse_0.7.23-0ubuntu1~ubuntu18.04.1_amd64.deb ...\n",
            "Unpacking google-drive-ocamlfuse (0.7.23-0ubuntu1~ubuntu18.04.1) ...\n",
            "Setting up google-drive-ocamlfuse (0.7.23-0ubuntu1~ubuntu18.04.1) ...\n",
            "Processing triggers for man-db (2.8.3-2ubuntu0.1) ...\n",
            "Please, open the following URL in a web browser: https://accounts.google.com/o/oauth2/auth?client_id=32555940559.apps.googleusercontent.com&redirect_uri=urn%3Aietf%3Awg%3Aoauth%3A2.0%3Aoob&scope=https%3A%2F%2Fwww.googleapis.com%2Fauth%2Fdrive&response_type=code&access_type=offline&approval_prompt=force\n",
            "··········\n",
            "Please, open the following URL in a web browser: https://accounts.google.com/o/oauth2/auth?client_id=32555940559.apps.googleusercontent.com&redirect_uri=urn%3Aietf%3Awg%3Aoauth%3A2.0%3Aoob&scope=https%3A%2F%2Fwww.googleapis.com%2Fauth%2Fdrive&response_type=code&access_type=offline&approval_prompt=force\n",
            "Please enter the verification code: Access token retrieved correctly.\n"
          ],
          "name": "stdout"
        }
      ]
    },
    {
      "cell_type": "code",
      "metadata": {
        "colab": {
          "base_uri": "https://localhost:8080/"
        },
        "id": "5lAVxYF54dau",
        "outputId": "7debc7dd-700d-479f-a688-fa7cb1179018"
      },
      "source": [
        "!mkdir drive\n",
        "!google-drive-ocamlfuse drive"
      ],
      "execution_count": 3,
      "outputs": [
        {
          "output_type": "stream",
          "text": [
            "mkdir: cannot create directory ‘drive’: File exists\n"
          ],
          "name": "stdout"
        }
      ]
    },
    {
      "cell_type": "code",
      "metadata": {
        "colab": {
          "base_uri": "https://localhost:8080/"
        },
        "id": "EkyQiIow4q6v",
        "outputId": "2cb802a0-7d89-4992-e61f-81cf0c47d387"
      },
      "source": [
        "import os \n",
        "os.chdir(\"/content/drive/Colab_Notebooks/23december\")\n",
        "!pwd"
      ],
      "execution_count": 4,
      "outputs": [
        {
          "output_type": "stream",
          "text": [
            "/content/drive/Colab_Notebooks/23december\n"
          ],
          "name": "stdout"
        }
      ]
    },
    {
      "cell_type": "code",
      "metadata": {
        "id": "oqQhUFm-4q_F"
      },
      "source": [
        "#import modules\n",
        "#https://keras.io/api/datasets/mnist/\n",
        "import keras\n",
        "from keras.datasets import mnist\n",
        "from keras.models import Sequential\n",
        "from keras.layers import Dense\n",
        "from keras.layers import Dropout\n",
        "from keras.layers import Flatten\n",
        "from keras.utils import np_utils\n",
        "from keras.optimizers import SGD\n",
        "\n",
        "import matplotlib.pyplot as plt\n"
      ],
      "execution_count": 86,
      "outputs": []
    },
    {
      "cell_type": "code",
      "metadata": {
        "id": "DEzk3Bam8b0K"
      },
      "source": [
        "#https://keras.io/examples/vision/mnist_convnet/\n",
        "# the data, split between train and test sets\n",
        "\n",
        "(x_train, y_train), (x_test, y_test) = mnist.load_data()\n",
        "\n"
      ],
      "execution_count": 87,
      "outputs": []
    },
    {
      "cell_type": "code",
      "metadata": {
        "colab": {
          "base_uri": "https://localhost:8080/",
          "height": 280
        },
        "id": "zS7uqwCC9i9M",
        "outputId": "cc3d3d2f-18c1-4a41-dc32-3d65b084c489"
      },
      "source": [
        "x_train[5000]\n",
        "\n",
        "plt.imshow(x_train[59000])"
      ],
      "execution_count": 88,
      "outputs": [
        {
          "output_type": "execute_result",
          "data": {
            "text/plain": [
              "<matplotlib.image.AxesImage at 0x7f90ef04f940>"
            ]
          },
          "metadata": {
            "tags": []
          },
          "execution_count": 88
        },
        {
          "output_type": "display_data",
          "data": {
            "image/png": "[encoded data removed]",
            "text/plain": [
              "<Figure size 432x288 with 1 Axes>"
            ]
          },
          "metadata": {
            "tags": [],
            "needs_background": "light"
          }
        }
      ]
    },
    {
      "cell_type": "code",
      "metadata": {
        "colab": {
          "base_uri": "https://localhost:8080/"
        },
        "id": "lLlxtmiC9zaf",
        "outputId": "ad355e19-0ef3-4821-d8e1-0523aa71d359"
      },
      "source": [
        "#mnist split dataset to 2 parts: train(size=60000), test(size=10000)\n",
        "#A standard split of the dataset is used to evaluate and compare models, where 60,000 images are used to train a model and a separate set of 10,000... \n",
        "#images are used to test it.\n",
        "print(len(x_train),len(y_train),len(x_test),len(y_test))\n"
      ],
      "execution_count": 89,
      "outputs": [
        {
          "output_type": "stream",
          "text": [
            "60000 60000 10000 10000\n"
          ],
          "name": "stdout"
        }
      ]
    },
    {
      "cell_type": "code",
      "metadata": {
        "colab": {
          "base_uri": "https://localhost:8080/"
        },
        "id": "961HJFcP_zuc",
        "outputId": "2630d243-ea01-4d8f-e7d7-4e517d245731"
      },
      "source": [
        "#Each image is a 28 by 28 pixel square (784 pixels total).\n",
        "\n",
        "print(\"one image:\", x_train[5].shape,\"pixel square\")\n",
        "print(\"all images:\",x_train.shape,\"pixel square\")"
      ],
      "execution_count": 90,
      "outputs": [
        {
          "output_type": "stream",
          "text": [
            "one image: (28, 28) pixel square\n",
            "all images: (60000, 28, 28) pixel square\n"
          ],
          "name": "stdout"
        }
      ]
    },
    {
      "cell_type": "code",
      "metadata": {
        "colab": {
          "base_uri": "https://localhost:8080/"
        },
        "id": "nAfLt3ayoYxH",
        "outputId": "7ca870f0-e457-4aa0-a293-4e0f4716833d"
      },
      "source": [
        "#we need feature vector (number of element: 784)\n",
        "#reshape!!\n",
        "\n",
        "_x_train_ = x_train.reshape(60000,784)\n",
        "print(\"feature vector (784,1)\")\n",
        "print(_x_train_.shape)\n",
        "_x_train_[5].shape"
      ],
      "execution_count": 91,
      "outputs": [
        {
          "output_type": "stream",
          "text": [
            "feature vector (784,1)\n",
            "(60000, 784)\n"
          ],
          "name": "stdout"
        },
        {
          "output_type": "execute_result",
          "data": {
            "text/plain": [
              "(784,)"
            ]
          },
          "metadata": {
            "tags": []
          },
          "execution_count": 91
        }
      ]
    },
    {
      "cell_type": "code",
      "metadata": {
        "colab": {
          "base_uri": "https://localhost:8080/"
        },
        "id": "K3_Yuzpnt2CV",
        "outputId": "75511ef0-69a2-4cc1-9d2e-ce4d1e58d56f"
      },
      "source": [
        "_x_train_.shape[1]"
      ],
      "execution_count": 92,
      "outputs": [
        {
          "output_type": "execute_result",
          "data": {
            "text/plain": [
              "784"
            ]
          },
          "metadata": {
            "tags": []
          },
          "execution_count": 92
        }
      ]
    },
    {
      "cell_type": "code",
      "metadata": {
        "id": "ge6evnBjuhI-"
      },
      "source": [
        "_x_test_ = x_test.reshape(10000,784) \n",
        "\n",
        "plt.subplot(241), plt.imshow(x_train[0], cmap=plt.get_cmap('gray')), plt.xticks([]), plt.yticks([])\n",
        "plt.subplot(242), plt.imshow(x_train[1], cmap=plt.get_cmap('gray')), plt.xticks([]), plt.yticks([])\n",
        "plt.subplot(243), plt.imshow(x_train[2], cmap=plt.get_cmap('gray')), plt.xticks([]), plt.yticks([])\n",
        "plt.subplot(244), plt.imshow(x_train[3], cmap=plt.get_cmap('gray')), plt.xticks([]), plt.yticks([])\n",
        "plt.subplot(245), plt.imshow(x_train[4], cmap=plt.get_cmap('gray')), plt.xticks([]), plt.yticks([])\n",
        "plt.subplot(246), plt.imshow(x_train[5], cmap=plt.get_cmap('gray')), plt.xticks([]), plt.yticks([])\n",
        "plt.subplot(247), plt.imshow(x_train[6], cmap=plt.get_cmap('gray')), plt.xticks([]), plt.yticks([])\n",
        "plt.subplot(248), plt.imshow(x_train[7], cmap=plt.get_cmap('gray')), plt.xticks([]), plt.yticks([])"
      ],
      "execution_count": 93,
      "outputs": []
    },
    {
      "cell_type": "code",
      "metadata": {
        "colab": {
          "base_uri": "https://localhost:8080/",
          "height": 296
        },
        "id": "x4rYVXbf9NKm",
        "outputId": "2c6da46f-ba1d-4064-990e-106bb53ce254"
      },
      "source": [
        "for k in range(20):\n",
        "  _k_ = k+1\n",
        "  plt.subplot(4,5,_k_),plt.imshow(x_train[k], cmap=plt.get_cmap('gray')), plt.xticks([]), plt.yticks([])\n",
        "# show the plot\n",
        "plt.tight_layout()\n",
        "\n",
        "plt.savefig(\"/content/drive/Colab_Notebooks/23december/mnist.png\")\n",
        "plt.show()"
      ],
      "execution_count": 110,
      "outputs": [
        {
          "output_type": "display_data",
          "data": {
            "image/png": "[encoded data removed]",
            "text/plain": [
              "<Figure size 432x288 with 20 Axes>"
            ]
          },
          "metadata": {
            "tags": []
          }
        }
      ]
    },
    {
      "cell_type": "code",
      "metadata": {
        "id": "v82kqDjjUI_c"
      },
      "source": [
        "#creating model\n",
        "model = Sequential()\n",
        "model.add(Dense(input_dim=_x_train_.shape[1],\n",
        "                units = 50,\n",
        "                kernel_initializer = 'uniform',\n",
        "                activation = 'tanh'))"
      ],
      "execution_count": 97,
      "outputs": []
    },
    {
      "cell_type": "code",
      "metadata": {
        "id": "V0TcEm6D6zUT"
      },
      "source": [
        "from keras.layers.core import Activation\n",
        "from keras.layers.core import Dropout\n",
        "\n",
        "model.add(Dense(50, kernel_initializer='uniform'))\n",
        "model.add(Activation('tanh'))\n",
        "model.add(Dropout(0.5))\n",
        "model.add(Dense(50, kernel_initializer='uniform'))\n",
        "model.add(Activation('relu'))"
      ],
      "execution_count": 99,
      "outputs": []
    },
    {
      "cell_type": "code",
      "metadata": {
        "id": "sDnYBpbZ643g"
      },
      "source": [
        "from keras.utils.np_utils import to_categorical\n",
        "y_train_ohe = to_categorical(y_train)\n"
      ],
      "execution_count": 100,
      "outputs": []
    },
    {
      "cell_type": "code",
      "metadata": {
        "id": "T6PiYboh6_YP"
      },
      "source": [
        "model.add(Dense(10, kernel_initializer='uniform'))\n",
        "model.add(Activation('softmax'))"
      ],
      "execution_count": 102,
      "outputs": []
    },
    {
      "cell_type": "code",
      "metadata": {
        "id": "aIcNsNIf7Dxq"
      },
      "source": [
        "sgd = SGD(lr=0.001, decay=1e-6, momentum=0.9, nesterov=True)"
      ],
      "execution_count": 103,
      "outputs": []
    },
    {
      "cell_type": "code",
      "metadata": {
        "id": "-cT_1CZu7GoB"
      },
      "source": [
        "model.compile(loss = 'categorical_crossentropy',\n",
        "              optimizer = sgd)"
      ],
      "execution_count": 104,
      "outputs": []
    },
    {
      "cell_type": "code",
      "metadata": {
        "colab": {
          "base_uri": "https://localhost:8080/",
          "height": 191
        },
        "id": "_en09nPx7LDc",
        "outputId": "092e157d-3143-4ec3-971c-3d56be64ca90"
      },
      "source": [
        "model.fit(_x_train_,\n",
        "          y_train_ohe,\n",
        "          nb_epoch = 50,\n",
        "          batch_size = 500,\n",
        "          validation_split = 0.1,\n",
        "          verbose = 1)"
      ],
      "execution_count": 107,
      "outputs": [
        {
          "output_type": "error",
          "ename": "TypeError",
          "evalue": "ignored",
          "traceback": [
            "\u001b[0;31m---------------------------------------------------------------------------\u001b[0m",
            "\u001b[0;31mTypeError\u001b[0m                                 Traceback (most recent call last)",
            "\u001b[0;32m<ipython-input-107-9a0ff3408ad6>\u001b[0m in \u001b[0;36m<module>\u001b[0;34m()\u001b[0m\n\u001b[1;32m      4\u001b[0m           \u001b[0mbatch_size\u001b[0m \u001b[0;34m=\u001b[0m \u001b[0;36m500\u001b[0m\u001b[0;34m,\u001b[0m\u001b[0;34m\u001b[0m\u001b[0;34m\u001b[0m\u001b[0m\n\u001b[1;32m      5\u001b[0m           \u001b[0mvalidation_split\u001b[0m \u001b[0;34m=\u001b[0m \u001b[0;36m0.1\u001b[0m\u001b[0;34m,\u001b[0m\u001b[0;34m\u001b[0m\u001b[0;34m\u001b[0m\u001b[0m\n\u001b[0;32m----> 6\u001b[0;31m           verbose = 1)\n\u001b[0m",
            "\u001b[0;31mTypeError\u001b[0m: fit() got an unexpected keyword argument 'nb_epoch'"
          ]
        }
      ]
    }
  ]
}